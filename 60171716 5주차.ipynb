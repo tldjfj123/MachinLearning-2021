{
 "cells": [
  {
   "cell_type": "code",
   "execution_count": 61,
   "source": [
    "from sklearn.linear_model import LogisticRegression\r\n",
    "from sklearn.model_selection import train_test_split\r\n",
    "from sklearn.metrics import accuracy_score\r\n",
    "from sklearn.metrics import confusion_matrix\r\n",
    "\r\n",
    "import pandas as pd\r\n",
    "import numpy as np\r\n",
    "import seaborn as sns\r\n",
    "\r\n",
    "col_names = ['pregnant', 'glucose', 'bp', 'skin', 'insulin', 'bmi', 'pedigree', 'age', 'label']\r\n",
    "# Pandas Data 읽기 맨 위 컬럼의 값을 col_names로 정하기\r\n",
    "pima = pd.read_csv(\"diabetes.csv\", header = None, names = col_names)\r\n",
    "features_cols = ['pregnant', 'insulin', 'bmi', 'age', 'glucose', 'bp', 'pedigree']\r\n",
    "\r\n",
    "x = pima[features_cols] # Features\r\n",
    "y = pima.label # Target Variable\r\n",
    "\r\n",
    "# Remove String Feature Label\r\n",
    "x = x[1:][:]\r\n",
    "\r\n",
    "# Remove String Feature Label\r\n",
    "y = y[1:]\r\n",
    "\r\n",
    "# Divide train data, test data into 8:2 ratio\r\n",
    "train_x, test_x, train_y, test_y = train_test_split(x, y, test_size=0.2)\r\n",
    "\r\n",
    "# Make LogisticRegression Model(limited number of iteration to prevent error)\r\n",
    "model = LogisticRegression(max_iter = 1000)\r\n",
    "\r\n",
    "# Train model by using train set\r\n",
    "model.fit(train_x, train_y)\r\n",
    "\r\n",
    "# Get prediction value of test_x \r\n",
    "pred = model.predict(test_x)\r\n",
    "\r\n",
    "# Make confusion matrix\r\n",
    "cm = confusion_matrix(test_y, pred)\r\n",
    " \r\n",
    "sns.heatmap(cm)\r\n",
    "\r\n",
    "print(\"Accuracy Score : {:.3f}%\".format(accuracy_score(test_y, pred)*100))\r\n",
    "\r\n",
    "\"\"\"\r\n",
    "TP : True + Positive\r\n",
    "TN : True + Negative\r\n",
    "FP : False + Positive\r\n",
    "FN : False + Negative\r\n",
    "\"\"\"\r\n",
    "tn, fp, fn, tp = cm.ravel()\r\n",
    "(tn, fp, fn, tp)\r\n"
   ],
   "outputs": [
    {
     "output_type": "stream",
     "name": "stdout",
     "text": [
      "Accuracy Score : 78.571%\n"
     ]
    },
    {
     "output_type": "execute_result",
     "data": {
      "text/plain": [
       "(88, 10, 23, 33)"
      ]
     },
     "metadata": {},
     "execution_count": 61
    },
    {
     "output_type": "display_data",
     "data": {
      "image/png": "[encoded data removed]",
      "text/plain": [
       "<Figure size 432x288 with 2 Axes>"
      ]
     },
     "metadata": {
      "needs_background": "light"
     }
    }
   ],
   "metadata": {}
  }
 ],
 "metadata": {
  "orig_nbformat": 4,
  "language_info": {
   "name": "python",
   "version": "3.9.7",
   "mimetype": "text/x-python",
   "codemirror_mode": {
    "name": "ipython",
    "version": 3
   },
   "pygments_lexer": "ipython3",
   "nbconvert_exporter": "python",
   "file_extension": ".py"
  },
  "kernelspec": {
   "name": "python3",
   "display_name": "Python 3.9.7 64-bit"
  },
  "interpreter": {
   "hash": "b2a764109c02714c2c157764b6d2289713d3b099c0d172e9b98f933403ab0fd4"
  }
 },
 "nbformat": 4,
 "nbformat_minor": 2
}